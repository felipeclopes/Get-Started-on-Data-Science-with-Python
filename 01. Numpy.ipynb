{
 "metadata": {
  "name": ""
 },
 "nbformat": 3,
 "nbformat_minor": 0,
 "worksheets": [
  {
   "cells": [
    {
     "cell_type": "markdown",
     "metadata": {},
     "source": [
      "# NumPy\n",
      "One of the fundamental packages for scientific computing with Python. \n",
      "\n",
      "## It contains among other things:\n",
      "* A collection of tools, utilities, and data structures for working with data.\n",
      "* A powerful N-dimensional array object\n",
      "* Element by element broadcasting operations (as opposed to iterating)\n",
      "* Tools for integrating C/C++ and Fortran code\n",
      "* Linear algebra and other mathematical and random number facilities\n",
      "* N-dimensional arrays\n",
      "* The ndarray is a bit like a python list only more efficient."
     ]
    },
    {
     "cell_type": "code",
     "collapsed": false,
     "input": [
      "\"\"\"example taken from Scipy and NumPy by Eli Bressert (p. 6)\"\"\"\n",
      "import numpy as np\n",
      "\n",
      "def list_times(alist, scalar):\n",
      "    for i, val in enumerate(alist):\n",
      "        alist[i] = val * scalar\n",
      "    return alist"
     ],
     "language": "python",
     "metadata": {},
     "outputs": [],
     "prompt_number": 6
    },
    {
     "cell_type": "code",
     "collapsed": false,
     "input": [
      "arr = np.arange(1e7)\n",
      "l   = arr.tolist()"
     ],
     "language": "python",
     "metadata": {},
     "outputs": [],
     "prompt_number": 7
    },
    {
     "cell_type": "code",
     "collapsed": false,
     "input": [
      "%timeit arr * 1.1"
     ],
     "language": "python",
     "metadata": {},
     "outputs": [
      {
       "output_type": "stream",
       "stream": "stdout",
       "text": [
        "10 loops, best of 3: 27.3 ms per loop\n"
       ]
      }
     ],
     "prompt_number": 8
    },
    {
     "cell_type": "code",
     "collapsed": false,
     "input": [
      "print \"len(l)\", len(l)\n",
      "print \"len(arr)\", len(arr)"
     ],
     "language": "python",
     "metadata": {},
     "outputs": [
      {
       "output_type": "stream",
       "stream": "stdout",
       "text": [
        "len(l) 2\n",
        "len(arr) 2\n"
       ]
      }
     ],
     "prompt_number": 14
    },
    {
     "cell_type": "code",
     "collapsed": false,
     "input": [
      "\"\"\"Applying mask to a Numpy array\"\"\"\n",
      "\n",
      "numbers = np.random.uniform(size=100)\n",
      "numbers = numbers.reshape((50,2))\n",
      "mask = (numbers >= 0.7) & (numbers <= 0.9)\n",
      "mask[:10]"
     ],
     "language": "python",
     "metadata": {},
     "outputs": [
      {
       "metadata": {},
       "output_type": "pyout",
       "prompt_number": 19,
       "text": [
        "array([[False, False],\n",
        "       [ True, False],\n",
        "       [False, False],\n",
        "       [False,  True],\n",
        "       [False, False],\n",
        "       [False, False],\n",
        "       [False, False],\n",
        "       [False, False],\n",
        "       [False, False],\n",
        "       [False,  True]], dtype=bool)"
       ]
      }
     ],
     "prompt_number": 19
    },
    {
     "cell_type": "code",
     "collapsed": false,
     "input": [
      "print 'Numbers', numbers[2, :]\n",
      "print 'Masked numbers', mask[2, :]"
     ],
     "language": "python",
     "metadata": {},
     "outputs": [
      {
       "output_type": "stream",
       "stream": "stdout",
       "text": [
        "Numbers [ 0.43837473  0.23338412]\n",
        "Masked numbers [False False]\n"
       ]
      }
     ],
     "prompt_number": 25
    },
    {
     "cell_type": "code",
     "collapsed": false,
     "input": [],
     "language": "python",
     "metadata": {},
     "outputs": []
    }
   ],
   "metadata": {}
  }
 ]
}