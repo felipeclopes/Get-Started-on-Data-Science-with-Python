{
 "metadata": {
  "name": ""
 },
 "nbformat": 3,
 "nbformat_minor": 0,
 "worksheets": [
  {
   "cells": [
    {
     "cell_type": "markdown",
     "metadata": {},
     "source": [
      "# Introduction\n",
      "\n",
      "[Presentation in ppt](\"files/introduction.pptx\")\n",
      "\n",
      "## Contents\n",
      "* Numpy\n",
      "* pandas\n",
      "* scikit-learn\n",
      "* Machine Learning"
     ]
    }
   ],
   "metadata": {}
  }
 ]
}